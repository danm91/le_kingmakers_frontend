{
 "cells": [
  {
   "cell_type": "code",
   "execution_count": 1,
   "id": "4386686d",
   "metadata": {
    "ExecuteTime": {
     "end_time": "2021-06-16T09:20:02.554446Z",
     "start_time": "2021-06-16T09:20:02.340601Z"
    }
   },
   "outputs": [],
   "source": [
    "import pandas as pd"
   ]
  },
  {
   "cell_type": "code",
   "execution_count": 2,
   "id": "919d86c1",
   "metadata": {
    "ExecuteTime": {
     "end_time": "2021-06-16T09:20:03.335546Z",
     "start_time": "2021-06-16T09:20:02.574139Z"
    }
   },
   "outputs": [
    {
     "name": "stderr",
     "output_type": "stream",
     "text": [
      "/Users/danielmarron/.pyenv/versions/le_kingmakers/lib/python3.8/site-packages/IPython/core/interactiveshell.py:3169: DtypeWarning: Columns (1,4,5,6) have mixed types.Specify dtype option on import or set low_memory=False.\n",
      "  has_raised = await self.run_ast_nodes(code_ast.body, cell_name,\n"
     ]
    }
   ],
   "source": [
    "df = pd.read_csv('tweets_large_ammended.csv')"
   ]
  },
  {
   "cell_type": "code",
   "execution_count": 3,
   "id": "c86092d0",
   "metadata": {
    "ExecuteTime": {
     "end_time": "2021-06-16T09:20:05.745239Z",
     "start_time": "2021-06-16T09:20:05.735824Z"
    }
   },
   "outputs": [],
   "source": [
    "class Tweets:\n",
    "    '''\n",
    "    DataFrame containing all tweets and popularity per tweet, columns for likes.\n",
    "    Used to collect create new dataframes to be plotted on streamlit.\n",
    "    '''\n",
    "        \n",
    "    def get_data(self):\n",
    "        return pd.read_csv('tweets_large_ammended.csv')\n",
    "\n",
    "    #choose figure\n",
    "    def by_figure(self, figure_twitter_handle, start = '2021-01-01', finish = '2021-06-01'):\n",
    "        data = self.get_data()\n",
    "        by_figure =  data.groupby('figure').get_group(figure_twitter_handle)\n",
    "        grouped_days = by_figure.groupby('date',as_index=False).agg({'popularity':'sum',\n",
    "                                                 'likes_count':'sum',\n",
    "                                                'retweets_count':'sum'})\n",
    "        return grouped_days[(grouped_days['date']>start) & (grouped_days['date']<finish)]\n",
    "\n",
    "        \n",
    "   \n",
    "    #choose region    \n",
    "    def get_region(self, regions = []):\n",
    "        pass\n",
    "    \n"
   ]
  },
  {
   "cell_type": "code",
   "execution_count": 17,
   "id": "3a001466",
   "metadata": {
    "ExecuteTime": {
     "end_time": "2021-06-16T09:29:50.740072Z",
     "start_time": "2021-06-16T09:29:50.736787Z"
    }
   },
   "outputs": [],
   "source": [
    "start = '2021-04-01'\n",
    "finish = '2021-06-01'"
   ]
  },
  {
   "cell_type": "code",
   "execution_count": 5,
   "id": "f68cd50a",
   "metadata": {
    "ExecuteTime": {
     "end_time": "2021-06-16T09:20:14.288915Z",
     "start_time": "2021-06-16T09:20:13.440311Z"
    }
   },
   "outputs": [
    {
     "name": "stderr",
     "output_type": "stream",
     "text": [
      "/Users/danielmarron/.pyenv/versions/le_kingmakers/lib/python3.8/site-packages/IPython/core/interactiveshell.py:3441: DtypeWarning: Columns (1,4,5,6) have mixed types.Specify dtype option on import or set low_memory=False.\n",
      "  exec(code_obj, self.user_global_ns, self.user_ns)\n"
     ]
    }
   ],
   "source": [
    "pritipatel = Tweets().by_figure('pritipatel', start = start).head(2)"
   ]
  },
  {
   "cell_type": "code",
   "execution_count": 6,
   "id": "799dcd1a",
   "metadata": {
    "ExecuteTime": {
     "end_time": "2021-06-16T09:20:15.104337Z",
     "start_time": "2021-06-16T09:20:14.301067Z"
    }
   },
   "outputs": [
    {
     "name": "stderr",
     "output_type": "stream",
     "text": [
      "/Users/danielmarron/.pyenv/versions/le_kingmakers/lib/python3.8/site-packages/IPython/core/interactiveshell.py:3441: DtypeWarning: Columns (1,4,5,6) have mixed types.Specify dtype option on import or set low_memory=False.\n",
      "  exec(code_obj, self.user_global_ns, self.user_ns)\n"
     ]
    }
   ],
   "source": [
    "matthancock = Tweets().by_figure('matthancock', start=start)"
   ]
  },
  {
   "cell_type": "code",
   "execution_count": 7,
   "id": "e26a0321",
   "metadata": {
    "ExecuteTime": {
     "end_time": "2021-06-16T09:20:16.599455Z",
     "start_time": "2021-06-16T09:20:16.595197Z"
    }
   },
   "outputs": [],
   "source": [
    "figures = ['matthancock','pritipatel']"
   ]
  },
  {
   "cell_type": "code",
   "execution_count": 8,
   "id": "2dcfd13c",
   "metadata": {
    "ExecuteTime": {
     "end_time": "2021-06-16T09:20:21.841540Z",
     "start_time": "2021-06-16T09:20:21.808462Z"
    }
   },
   "outputs": [
    {
     "data": {
      "text/html": [
       "<div>\n",
       "<style scoped>\n",
       "    .dataframe tbody tr th:only-of-type {\n",
       "        vertical-align: middle;\n",
       "    }\n",
       "\n",
       "    .dataframe tbody tr th {\n",
       "        vertical-align: top;\n",
       "    }\n",
       "\n",
       "    .dataframe thead th {\n",
       "        text-align: right;\n",
       "    }\n",
       "</style>\n",
       "<table border=\"1\" class=\"dataframe\">\n",
       "  <thead>\n",
       "    <tr style=\"text-align: right;\">\n",
       "      <th></th>\n",
       "      <th>Unnamed: 0</th>\n",
       "      <th>id</th>\n",
       "      <th>date</th>\n",
       "      <th>tweet</th>\n",
       "      <th>replies_count</th>\n",
       "      <th>retweets_count</th>\n",
       "      <th>likes_count</th>\n",
       "      <th>hashtags</th>\n",
       "      <th>geo</th>\n",
       "      <th>figure</th>\n",
       "      <th>clean</th>\n",
       "      <th>popularity</th>\n",
       "    </tr>\n",
       "  </thead>\n",
       "  <tbody>\n",
       "    <tr>\n",
       "      <th>0</th>\n",
       "      <td>0</td>\n",
       "      <td>1404799962400145420</td>\n",
       "      <td>2021-06-15</td>\n",
       "      <td>It’s time for people to ignore that lunatic @B...</td>\n",
       "      <td>0</td>\n",
       "      <td>0</td>\n",
       "      <td>0</td>\n",
       "      <td>['riseup', 'enoughisenough', 'borisout', 'revo...</td>\n",
       "      <td>Northern Ireland</td>\n",
       "      <td>borisjohnson</td>\n",
       "      <td>It’s time for people to ignore that lunatic @u...</td>\n",
       "      <td>-0.875903</td>\n",
       "    </tr>\n",
       "    <tr>\n",
       "      <th>1</th>\n",
       "      <td>1</td>\n",
       "      <td>1404796750146252800</td>\n",
       "      <td>2021-06-15</td>\n",
       "      <td>North East councils have backed Boris Johnson’...</td>\n",
       "      <td>0</td>\n",
       "      <td>0</td>\n",
       "      <td>0</td>\n",
       "      <td>[]</td>\n",
       "      <td>Northern Ireland</td>\n",
       "      <td>borisjohnson</td>\n",
       "      <td>North East councils have backed Boris Johnson’...</td>\n",
       "      <td>0.065623</td>\n",
       "    </tr>\n",
       "    <tr>\n",
       "      <th>2</th>\n",
       "      <td>2</td>\n",
       "      <td>1404796099144171529</td>\n",
       "      <td>2021-06-15</td>\n",
       "      <td>North East councils have backed Boris Johnson’...</td>\n",
       "      <td>0</td>\n",
       "      <td>0</td>\n",
       "      <td>0</td>\n",
       "      <td>[]</td>\n",
       "      <td>Northern Ireland</td>\n",
       "      <td>borisjohnson</td>\n",
       "      <td>North East councils have backed Boris Johnson’...</td>\n",
       "      <td>0.065623</td>\n",
       "    </tr>\n",
       "  </tbody>\n",
       "</table>\n",
       "</div>"
      ],
      "text/plain": [
       "   Unnamed: 0                   id        date  \\\n",
       "0           0  1404799962400145420  2021-06-15   \n",
       "1           1  1404796750146252800  2021-06-15   \n",
       "2           2  1404796099144171529  2021-06-15   \n",
       "\n",
       "                                               tweet replies_count  \\\n",
       "0  It’s time for people to ignore that lunatic @B...             0   \n",
       "1  North East councils have backed Boris Johnson’...             0   \n",
       "2  North East councils have backed Boris Johnson’...             0   \n",
       "\n",
       "  retweets_count likes_count  \\\n",
       "0              0           0   \n",
       "1              0           0   \n",
       "2              0           0   \n",
       "\n",
       "                                            hashtags               geo  \\\n",
       "0  ['riseup', 'enoughisenough', 'borisout', 'revo...  Northern Ireland   \n",
       "1                                                 []  Northern Ireland   \n",
       "2                                                 []  Northern Ireland   \n",
       "\n",
       "         figure                                              clean  popularity  \n",
       "0  borisjohnson  It’s time for people to ignore that lunatic @u...   -0.875903  \n",
       "1  borisjohnson  North East councils have backed Boris Johnson’...    0.065623  \n",
       "2  borisjohnson  North East councils have backed Boris Johnson’...    0.065623  "
      ]
     },
     "execution_count": 8,
     "metadata": {},
     "output_type": "execute_result"
    }
   ],
   "source": [
    "df.head(3)"
   ]
  },
  {
   "cell_type": "code",
   "execution_count": 72,
   "id": "c14a33eb",
   "metadata": {
    "ExecuteTime": {
     "end_time": "2021-06-16T10:05:30.455407Z",
     "start_time": "2021-06-16T10:05:30.409019Z"
    }
   },
   "outputs": [
    {
     "data": {
      "text/plain": [
       "Northern Ireland            115247\n",
       "London                       15489\n",
       "North West (England)          5593\n",
       "Scotland                      3395\n",
       "West Midlands (England)       2920\n",
       "East Midlands (England)       2220\n",
       "North East (England)          1991\n",
       "East of England               1970\n",
       "South East (England)          1183\n",
       "South West (England)           999\n",
       "Wales                          975\n",
       "Yorkshire and The Humber       840\n",
       "geo                              1\n",
       "Name: geo, dtype: int64"
      ]
     },
     "execution_count": 72,
     "metadata": {},
     "output_type": "execute_result"
    }
   ],
   "source": [
    "df.geo.value_counts()"
   ]
  },
  {
   "cell_type": "code",
   "execution_count": 12,
   "id": "d26a1c3f",
   "metadata": {
    "ExecuteTime": {
     "end_time": "2021-06-16T09:21:16.171023Z",
     "start_time": "2021-06-16T09:21:16.144704Z"
    }
   },
   "outputs": [
    {
     "data": {
      "text/plain": [
       "['Northern Ireland',\n",
       " 'North East (England)',\n",
       " 'North West (England)',\n",
       " 'Yorkshire and The Humber',\n",
       " 'East Midlands (England)',\n",
       " 'West Midlands (England)',\n",
       " 'East of England',\n",
       " 'London',\n",
       " 'South East (England)',\n",
       " 'South West (England)',\n",
       " 'Wales',\n",
       " 'Scotland',\n",
       " 'geo']"
      ]
     },
     "execution_count": 12,
     "metadata": {},
     "output_type": "execute_result"
    }
   ],
   "source": [
    "df_geos = list(df.geo.unique())\n",
    "df_geos"
   ]
  },
  {
   "cell_type": "code",
   "execution_count": 13,
   "id": "ad77bb83",
   "metadata": {
    "ExecuteTime": {
     "end_time": "2021-06-16T09:21:52.136881Z",
     "start_time": "2021-06-16T09:21:52.131792Z"
    }
   },
   "outputs": [],
   "source": [
    "json_geos =['UKC', 'UKD', 'UKE', \n",
    "    'UKF', 'UKG', 'UKH', 'UKI', \n",
    "    'UKJ', 'UKK', 'UKL', 'UKM', 'UKN']"
   ]
  },
  {
   "cell_type": "code",
   "execution_count": 15,
   "id": "e148e381",
   "metadata": {
    "ExecuteTime": {
     "end_time": "2021-06-16T09:25:38.247133Z",
     "start_time": "2021-06-16T09:25:38.230944Z"
    }
   },
   "outputs": [],
   "source": [
    "# convert into this so can be used in json\n",
    "geo_dict = {'North East (England)': 'UKC',\n",
    "            'North West (England)': 'UKD',\n",
    "            'Yorkshire and The Humber': 'UKE',\n",
    "            'East Midlands (England)': 'UKF',\n",
    "            'West Midlands (England)': 'UKG',\n",
    "            'East of England': 'UKH',\n",
    "            'London': 'UKI',\n",
    "            'South East (England)': 'UKJ',\n",
    "            'South West (England)': 'UKK',\n",
    "            'Wales': 'UKL', 'Scotland': 'UKM',\n",
    "            'Northern Ireland': 'UKN'}"
   ]
  },
  {
   "cell_type": "code",
   "execution_count": 16,
   "id": "cdec2601",
   "metadata": {
    "ExecuteTime": {
     "end_time": "2021-06-16T09:27:56.048961Z",
     "start_time": "2021-06-16T09:27:56.036948Z"
    }
   },
   "outputs": [],
   "source": [
    "geo_group = df.groupby('geo')"
   ]
  },
  {
   "cell_type": "code",
   "execution_count": 18,
   "id": "f0e6640f",
   "metadata": {
    "ExecuteTime": {
     "end_time": "2021-06-16T09:30:57.456821Z",
     "start_time": "2021-06-16T09:30:57.450584Z"
    }
   },
   "outputs": [],
   "source": [
    "figure = 'pritipatel'"
   ]
  },
  {
   "cell_type": "code",
   "execution_count": 30,
   "id": "5c2d8cdc",
   "metadata": {
    "ExecuteTime": {
     "end_time": "2021-06-16T09:34:05.412999Z",
     "start_time": "2021-06-16T09:34:05.409330Z"
    }
   },
   "outputs": [],
   "source": [
    "geo_locations = ['Northern Ireland',\n",
    " 'North East (England)',\n",
    " 'North West (England)',\n",
    " 'Yorkshire and The Humber',\n",
    " 'East Midlands (England)',\n",
    " 'West Midlands (England)',\n",
    " 'East of England',\n",
    " 'London',\n",
    " 'South East (England)',\n",
    " 'South West (England)',\n",
    " 'Wales',\n",
    " 'Scotland']"
   ]
  },
  {
   "cell_type": "code",
   "execution_count": 65,
   "id": "ca0f6007",
   "metadata": {
    "ExecuteTime": {
     "end_time": "2021-06-16T10:03:22.101363Z",
     "start_time": "2021-06-16T10:03:22.088034Z"
    }
   },
   "outputs": [
    {
     "data": {
      "text/plain": [
       "array(['Northern Ireland'], dtype=object)"
      ]
     },
     "execution_count": 65,
     "metadata": {},
     "output_type": "execute_result"
    }
   ],
   "source": [
    "test_df.geo.unique()"
   ]
  },
  {
   "cell_type": "code",
   "execution_count": 67,
   "id": "9cda0952",
   "metadata": {
    "ExecuteTime": {
     "end_time": "2021-06-16T10:04:28.505216Z",
     "start_time": "2021-06-16T10:04:28.466341Z"
    }
   },
   "outputs": [],
   "source": [
    "#get figure data first\n",
    "#could nest this and \n",
    "\n",
    "test_df = df[df.figure=='matthancock']\n",
    "test_df = test_df[['date','geo','retweets_count','likes_count','popularity']]\n",
    "temp_group = test_df.groupby('geo')\n",
    "\n",
    "\n",
    "# geo_concat=[]\n",
    "# for geo in geo_locations:\n",
    "#     df_ = temp_group.get_group(geo)\n",
    "#     df_ = df_[(df_['date']>start) & (df_['date']<finish)]\n",
    "#     df_ = df_.groupby('geo',as_index=False).agg({'popularity':'mean'})\n",
    "#     geo_concat.append(df_)\n",
    "\n",
    "# geo_data = pd.concat(geo_concat,axis=0)\n",
    "# geo_data.geo = geo_data.geo.map(geo_dict)     "
   ]
  },
  {
   "cell_type": "code",
   "execution_count": 71,
   "id": "42e2c467",
   "metadata": {
    "ExecuteTime": {
     "end_time": "2021-06-16T10:05:09.343510Z",
     "start_time": "2021-06-16T10:05:09.331820Z"
    }
   },
   "outputs": [
    {
     "data": {
      "text/plain": [
       "array(['Northern Ireland'], dtype=object)"
      ]
     },
     "execution_count": 71,
     "metadata": {},
     "output_type": "execute_result"
    }
   ],
   "source": [
    "test_df.geo.unique()"
   ]
  },
  {
   "cell_type": "code",
   "execution_count": 62,
   "id": "58ee78aa",
   "metadata": {
    "ExecuteTime": {
     "end_time": "2021-06-16T09:59:03.907992Z",
     "start_time": "2021-06-16T09:59:03.893579Z"
    }
   },
   "outputs": [
    {
     "data": {
      "text/html": [
       "<div>\n",
       "<style scoped>\n",
       "    .dataframe tbody tr th:only-of-type {\n",
       "        vertical-align: middle;\n",
       "    }\n",
       "\n",
       "    .dataframe tbody tr th {\n",
       "        vertical-align: top;\n",
       "    }\n",
       "\n",
       "    .dataframe thead th {\n",
       "        text-align: right;\n",
       "    }\n",
       "</style>\n",
       "<table border=\"1\" class=\"dataframe\">\n",
       "  <thead>\n",
       "    <tr style=\"text-align: right;\">\n",
       "      <th></th>\n",
       "      <th>geo</th>\n",
       "      <th>popularity</th>\n",
       "    </tr>\n",
       "  </thead>\n",
       "  <tbody>\n",
       "    <tr>\n",
       "      <th>0</th>\n",
       "      <td>UKN</td>\n",
       "      <td>-0.460944</td>\n",
       "    </tr>\n",
       "    <tr>\n",
       "      <th>0</th>\n",
       "      <td>UKC</td>\n",
       "      <td>-0.409050</td>\n",
       "    </tr>\n",
       "    <tr>\n",
       "      <th>0</th>\n",
       "      <td>UKD</td>\n",
       "      <td>-0.455194</td>\n",
       "    </tr>\n",
       "    <tr>\n",
       "      <th>0</th>\n",
       "      <td>UKE</td>\n",
       "      <td>-0.440052</td>\n",
       "    </tr>\n",
       "    <tr>\n",
       "      <th>0</th>\n",
       "      <td>UKF</td>\n",
       "      <td>-0.415129</td>\n",
       "    </tr>\n",
       "    <tr>\n",
       "      <th>0</th>\n",
       "      <td>UKG</td>\n",
       "      <td>-0.433302</td>\n",
       "    </tr>\n",
       "    <tr>\n",
       "      <th>0</th>\n",
       "      <td>UKH</td>\n",
       "      <td>-0.313265</td>\n",
       "    </tr>\n",
       "    <tr>\n",
       "      <th>0</th>\n",
       "      <td>UKI</td>\n",
       "      <td>-0.392560</td>\n",
       "    </tr>\n",
       "    <tr>\n",
       "      <th>0</th>\n",
       "      <td>UKJ</td>\n",
       "      <td>-0.406514</td>\n",
       "    </tr>\n",
       "    <tr>\n",
       "      <th>0</th>\n",
       "      <td>UKK</td>\n",
       "      <td>-0.468024</td>\n",
       "    </tr>\n",
       "    <tr>\n",
       "      <th>0</th>\n",
       "      <td>UKL</td>\n",
       "      <td>-0.482591</td>\n",
       "    </tr>\n",
       "    <tr>\n",
       "      <th>0</th>\n",
       "      <td>UKM</td>\n",
       "      <td>-0.336681</td>\n",
       "    </tr>\n",
       "  </tbody>\n",
       "</table>\n",
       "</div>"
      ],
      "text/plain": [
       "   geo  popularity\n",
       "0  UKN   -0.460944\n",
       "0  UKC   -0.409050\n",
       "0  UKD   -0.455194\n",
       "0  UKE   -0.440052\n",
       "0  UKF   -0.415129\n",
       "0  UKG   -0.433302\n",
       "0  UKH   -0.313265\n",
       "0  UKI   -0.392560\n",
       "0  UKJ   -0.406514\n",
       "0  UKK   -0.468024\n",
       "0  UKL   -0.482591\n",
       "0  UKM   -0.336681"
      ]
     },
     "execution_count": 62,
     "metadata": {},
     "output_type": "execute_result"
    }
   ],
   "source": [
    "geo_data"
   ]
  },
  {
   "cell_type": "code",
   "execution_count": null,
   "id": "6f97bafa",
   "metadata": {},
   "outputs": [],
   "source": []
  },
  {
   "cell_type": "code",
   "execution_count": null,
   "id": "ac9b7754",
   "metadata": {},
   "outputs": [],
   "source": []
  },
  {
   "cell_type": "code",
   "execution_count": null,
   "id": "65878114",
   "metadata": {},
   "outputs": [],
   "source": []
  },
  {
   "cell_type": "code",
   "execution_count": null,
   "id": "dfe5205a",
   "metadata": {},
   "outputs": [],
   "source": []
  },
  {
   "cell_type": "code",
   "execution_count": null,
   "id": "ba6d4b09",
   "metadata": {},
   "outputs": [],
   "source": []
  },
  {
   "cell_type": "code",
   "execution_count": 37,
   "id": "820b84a8",
   "metadata": {
    "ExecuteTime": {
     "end_time": "2021-06-16T09:37:14.478095Z",
     "start_time": "2021-06-16T09:37:14.464343Z"
    }
   },
   "outputs": [
    {
     "ename": "NameError",
     "evalue": "name 'temp_group' is not defined",
     "output_type": "error",
     "traceback": [
      "\u001b[0;31m---------------------------------------------------------------------------\u001b[0m",
      "\u001b[0;31mNameError\u001b[0m                                 Traceback (most recent call last)",
      "\u001b[0;32m<ipython-input-37-26fd67db2bc8>\u001b[0m in \u001b[0;36m<module>\u001b[0;34m\u001b[0m\n\u001b[1;32m      1\u001b[0m \u001b[0mconcat_list\u001b[0m \u001b[0;34m=\u001b[0m \u001b[0;34m[\u001b[0m\u001b[0;34m]\u001b[0m\u001b[0;34m\u001b[0m\u001b[0;34m\u001b[0m\u001b[0m\n\u001b[1;32m      2\u001b[0m \u001b[0;32mfor\u001b[0m \u001b[0mfigure\u001b[0m \u001b[0;32min\u001b[0m \u001b[0mgeo_locations\u001b[0m\u001b[0;34m:\u001b[0m\u001b[0;34m\u001b[0m\u001b[0;34m\u001b[0m\u001b[0m\n\u001b[0;32m----> 3\u001b[0;31m     \u001b[0mdf_\u001b[0m \u001b[0;34m=\u001b[0m \u001b[0mtemp_group\u001b[0m\u001b[0;34m.\u001b[0m\u001b[0mget_group\u001b[0m\u001b[0;34m(\u001b[0m\u001b[0mgeo\u001b[0m\u001b[0;34m)\u001b[0m\u001b[0;34m\u001b[0m\u001b[0;34m\u001b[0m\u001b[0m\n\u001b[0m\u001b[1;32m      4\u001b[0m     \u001b[0mdf_\u001b[0m \u001b[0;34m=\u001b[0m \u001b[0mdf_\u001b[0m\u001b[0;34m[\u001b[0m\u001b[0;34m(\u001b[0m\u001b[0mdf_\u001b[0m\u001b[0;34m[\u001b[0m\u001b[0;34m'date'\u001b[0m\u001b[0;34m]\u001b[0m\u001b[0;34m>\u001b[0m\u001b[0mstart\u001b[0m\u001b[0;34m)\u001b[0m \u001b[0;34m&\u001b[0m \u001b[0;34m(\u001b[0m\u001b[0mdf_\u001b[0m\u001b[0;34m[\u001b[0m\u001b[0;34m'date'\u001b[0m\u001b[0;34m]\u001b[0m\u001b[0;34m<\u001b[0m\u001b[0mfinish\u001b[0m\u001b[0;34m)\u001b[0m\u001b[0;34m]\u001b[0m\u001b[0;34m\u001b[0m\u001b[0;34m\u001b[0m\u001b[0m\n\u001b[1;32m      5\u001b[0m     \u001b[0mdf_\u001b[0m \u001b[0;34m=\u001b[0m \u001b[0mdf_\u001b[0m\u001b[0;34m.\u001b[0m\u001b[0mgroupby\u001b[0m\u001b[0;34m(\u001b[0m\u001b[0;34m'date'\u001b[0m\u001b[0;34m)\u001b[0m\u001b[0;34m.\u001b[0m\u001b[0magg\u001b[0m\u001b[0;34m(\u001b[0m\u001b[0;34m{\u001b[0m\u001b[0;34m'popularity'\u001b[0m\u001b[0;34m:\u001b[0m\u001b[0;34m'sum'\u001b[0m\u001b[0;34m}\u001b[0m\u001b[0;34m)\u001b[0m\u001b[0;34m\u001b[0m\u001b[0;34m\u001b[0m\u001b[0m\n",
      "\u001b[0;31mNameError\u001b[0m: name 'temp_group' is not defined"
     ]
    }
   ],
   "source": [
    "concat_list = []\n",
    "for figure in chosen_figures:\n",
    "    df_ = figures_group.get_group(figure)\n",
    "    df_ = df_[(df_['date']>start) & (df_['date']<finish)]\n",
    "    df_ = df_.groupby('date').agg({'popularity':'sum'})\n",
    "    df_['figure'] = figure\n",
    "    concat_list.append(df_)"
   ]
  },
  {
   "cell_type": "code",
   "execution_count": null,
   "id": "fdacb306",
   "metadata": {},
   "outputs": [],
   "source": []
  },
  {
   "cell_type": "code",
   "execution_count": null,
   "id": "c7f52ffc",
   "metadata": {},
   "outputs": [],
   "source": []
  },
  {
   "cell_type": "code",
   "execution_count": null,
   "id": "92a12598",
   "metadata": {},
   "outputs": [],
   "source": []
  },
  {
   "cell_type": "code",
   "execution_count": null,
   "id": "1c3f26d6",
   "metadata": {},
   "outputs": [],
   "source": []
  },
  {
   "cell_type": "code",
   "execution_count": 20,
   "id": "12d965c5",
   "metadata": {
    "ExecuteTime": {
     "end_time": "2021-06-16T08:31:18.039907Z",
     "start_time": "2021-06-16T08:31:17.987277Z"
    }
   },
   "outputs": [
    {
     "data": {
      "text/plain": [
       "(72, 12)"
      ]
     },
     "execution_count": 20,
     "metadata": {},
     "output_type": "execute_result"
    }
   ],
   "source": [
    "df[df['figure']=='kierstarmer'].shape"
   ]
  },
  {
   "cell_type": "code",
   "execution_count": null,
   "id": "336c7841",
   "metadata": {},
   "outputs": [],
   "source": []
  },
  {
   "cell_type": "code",
   "execution_count": 105,
   "id": "35af0cad",
   "metadata": {
    "ExecuteTime": {
     "end_time": "2021-06-14T11:13:29.436260Z",
     "start_time": "2021-06-14T11:13:28.938201Z"
    }
   },
   "outputs": [],
   "source": [
    "test = pd.read_csv('for_streamlit.csv')"
   ]
  },
  {
   "cell_type": "code",
   "execution_count": 149,
   "id": "e1ddca98",
   "metadata": {
    "ExecuteTime": {
     "end_time": "2021-06-14T12:49:13.309469Z",
     "start_time": "2021-06-14T12:49:13.289537Z"
    }
   },
   "outputs": [
    {
     "data": {
      "text/html": [
       "<div>\n",
       "<style scoped>\n",
       "    .dataframe tbody tr th:only-of-type {\n",
       "        vertical-align: middle;\n",
       "    }\n",
       "\n",
       "    .dataframe tbody tr th {\n",
       "        vertical-align: top;\n",
       "    }\n",
       "\n",
       "    .dataframe thead th {\n",
       "        text-align: right;\n",
       "    }\n",
       "</style>\n",
       "<table border=\"1\" class=\"dataframe\">\n",
       "  <thead>\n",
       "    <tr style=\"text-align: right;\">\n",
       "      <th></th>\n",
       "      <th>popularity</th>\n",
       "      <th>likes_count</th>\n",
       "      <th>retweets_count</th>\n",
       "    </tr>\n",
       "    <tr>\n",
       "      <th>date</th>\n",
       "      <th></th>\n",
       "      <th></th>\n",
       "      <th></th>\n",
       "    </tr>\n",
       "  </thead>\n",
       "  <tbody>\n",
       "    <tr>\n",
       "      <th>2021-04-02</th>\n",
       "      <td>63.5</td>\n",
       "      <td>93</td>\n",
       "      <td>24</td>\n",
       "    </tr>\n",
       "    <tr>\n",
       "      <th>2021-04-03</th>\n",
       "      <td>-70.0</td>\n",
       "      <td>132</td>\n",
       "      <td>9</td>\n",
       "    </tr>\n",
       "    <tr>\n",
       "      <th>2021-04-04</th>\n",
       "      <td>-36.0</td>\n",
       "      <td>52</td>\n",
       "      <td>9</td>\n",
       "    </tr>\n",
       "    <tr>\n",
       "      <th>2021-04-05</th>\n",
       "      <td>-25.5</td>\n",
       "      <td>81</td>\n",
       "      <td>8</td>\n",
       "    </tr>\n",
       "    <tr>\n",
       "      <th>2021-04-06</th>\n",
       "      <td>431.5</td>\n",
       "      <td>601</td>\n",
       "      <td>164</td>\n",
       "    </tr>\n",
       "  </tbody>\n",
       "</table>\n",
       "</div>"
      ],
      "text/plain": [
       "            popularity  likes_count  retweets_count\n",
       "date                                               \n",
       "2021-04-02        63.5           93              24\n",
       "2021-04-03       -70.0          132               9\n",
       "2021-04-04       -36.0           52               9\n",
       "2021-04-05       -25.5           81               8\n",
       "2021-04-06       431.5          601             164"
      ]
     },
     "execution_count": 149,
     "metadata": {},
     "output_type": "execute_result"
    }
   ],
   "source": [
    "matthancock.head().set_index('date')"
   ]
  },
  {
   "cell_type": "code",
   "execution_count": 160,
   "id": "f1907e7e",
   "metadata": {
    "ExecuteTime": {
     "end_time": "2021-06-14T13:21:35.701706Z",
     "start_time": "2021-06-14T13:21:35.063871Z"
    }
   },
   "outputs": [
    {
     "name": "stdout",
     "output_type": "stream",
     "text": [
      "CPU times: user 3 µs, sys: 1 µs, total: 4 µs\n",
      "Wall time: 10 µs\n"
     ]
    }
   ],
   "source": [
    "%time\n",
    "fg = list(tweets.get_data().figure.unique())[:4]"
   ]
  },
  {
   "cell_type": "code",
   "execution_count": 351,
   "id": "2dce4d5a",
   "metadata": {
    "ExecuteTime": {
     "end_time": "2021-06-14T14:40:07.831851Z",
     "start_time": "2021-06-14T14:40:07.330712Z"
    }
   },
   "outputs": [],
   "source": []
  },
  {
   "cell_type": "code",
   "execution_count": 353,
   "id": "cc61e9c1",
   "metadata": {
    "ExecuteTime": {
     "end_time": "2021-06-14T14:40:43.771008Z",
     "start_time": "2021-06-14T14:40:43.764432Z"
    }
   },
   "outputs": [],
   "source": [
    "# popularity_df = pd.DataFrame()\n",
    "\n",
    "def get_popularity(list_of_figures):\n",
    "    emp_df = sorted(Tweets().get_data()['date'].unique())\n",
    "    emp_df = pd.DataFrame(emp_df,columns=['date'])\n",
    "    for figure in list_of_figures:\n",
    "        fig_tweets = Tweets().by_figure(figure)\n",
    "        fig_tweets = fig_tweets.rename({'popularity':figure},axis=1)\n",
    "        fig_tweets = fig_tweets[['date',figure]]\n",
    "        emp_df = emp_df.merge(fig_tweets, on='date')\n",
    "    return emp_df\n"
   ]
  },
  {
   "cell_type": "code",
   "execution_count": null,
   "id": "f3199458",
   "metadata": {},
   "outputs": [],
   "source": []
  },
  {
   "cell_type": "code",
   "execution_count": 354,
   "id": "1236719d",
   "metadata": {
    "ExecuteTime": {
     "end_time": "2021-06-14T14:40:46.954661Z",
     "start_time": "2021-06-14T14:40:45.494519Z"
    }
   },
   "outputs": [
    {
     "data": {
      "text/html": [
       "<div>\n",
       "<style scoped>\n",
       "    .dataframe tbody tr th:only-of-type {\n",
       "        vertical-align: middle;\n",
       "    }\n",
       "\n",
       "    .dataframe tbody tr th {\n",
       "        vertical-align: top;\n",
       "    }\n",
       "\n",
       "    .dataframe thead th {\n",
       "        text-align: right;\n",
       "    }\n",
       "</style>\n",
       "<table border=\"1\" class=\"dataframe\">\n",
       "  <thead>\n",
       "    <tr style=\"text-align: right;\">\n",
       "      <th></th>\n",
       "      <th>date</th>\n",
       "      <th>borisjohnson</th>\n",
       "      <th>grantshapps</th>\n",
       "    </tr>\n",
       "  </thead>\n",
       "  <tbody>\n",
       "    <tr>\n",
       "      <th>0</th>\n",
       "      <td>2021-01-02</td>\n",
       "      <td>13.0</td>\n",
       "      <td>-1.5</td>\n",
       "    </tr>\n",
       "    <tr>\n",
       "      <th>1</th>\n",
       "      <td>2021-01-03</td>\n",
       "      <td>-205.5</td>\n",
       "      <td>-11.0</td>\n",
       "    </tr>\n",
       "    <tr>\n",
       "      <th>2</th>\n",
       "      <td>2021-01-04</td>\n",
       "      <td>-4392.5</td>\n",
       "      <td>-9.0</td>\n",
       "    </tr>\n",
       "    <tr>\n",
       "      <th>3</th>\n",
       "      <td>2021-01-05</td>\n",
       "      <td>-1661.5</td>\n",
       "      <td>1.0</td>\n",
       "    </tr>\n",
       "    <tr>\n",
       "      <th>4</th>\n",
       "      <td>2021-01-06</td>\n",
       "      <td>-1355.0</td>\n",
       "      <td>-5.5</td>\n",
       "    </tr>\n",
       "    <tr>\n",
       "      <th>...</th>\n",
       "      <td>...</td>\n",
       "      <td>...</td>\n",
       "      <td>...</td>\n",
       "    </tr>\n",
       "    <tr>\n",
       "      <th>141</th>\n",
       "      <td>2021-05-26</td>\n",
       "      <td>6508.5</td>\n",
       "      <td>643.0</td>\n",
       "    </tr>\n",
       "    <tr>\n",
       "      <th>142</th>\n",
       "      <td>2021-05-27</td>\n",
       "      <td>4723.5</td>\n",
       "      <td>-147.0</td>\n",
       "    </tr>\n",
       "    <tr>\n",
       "      <th>143</th>\n",
       "      <td>2021-05-28</td>\n",
       "      <td>362.5</td>\n",
       "      <td>-13.5</td>\n",
       "    </tr>\n",
       "    <tr>\n",
       "      <th>144</th>\n",
       "      <td>2021-05-29</td>\n",
       "      <td>-53.5</td>\n",
       "      <td>-22.0</td>\n",
       "    </tr>\n",
       "    <tr>\n",
       "      <th>145</th>\n",
       "      <td>2021-05-30</td>\n",
       "      <td>878.5</td>\n",
       "      <td>-2.0</td>\n",
       "    </tr>\n",
       "  </tbody>\n",
       "</table>\n",
       "<p>146 rows × 3 columns</p>\n",
       "</div>"
      ],
      "text/plain": [
       "           date  borisjohnson  grantshapps\n",
       "0    2021-01-02          13.0         -1.5\n",
       "1    2021-01-03        -205.5        -11.0\n",
       "2    2021-01-04       -4392.5         -9.0\n",
       "3    2021-01-05       -1661.5          1.0\n",
       "4    2021-01-06       -1355.0         -5.5\n",
       "..          ...           ...          ...\n",
       "141  2021-05-26        6508.5        643.0\n",
       "142  2021-05-27        4723.5       -147.0\n",
       "143  2021-05-28         362.5        -13.5\n",
       "144  2021-05-29         -53.5        -22.0\n",
       "145  2021-05-30         878.5         -2.0\n",
       "\n",
       "[146 rows x 3 columns]"
      ]
     },
     "execution_count": 354,
     "metadata": {},
     "output_type": "execute_result"
    }
   ],
   "source": [
    "get_popularity(test_list)"
   ]
  },
  {
   "cell_type": "code",
   "execution_count": 320,
   "id": "bca9af4c",
   "metadata": {
    "ExecuteTime": {
     "end_time": "2021-06-14T14:34:25.325720Z",
     "start_time": "2021-06-14T14:34:25.319341Z"
    }
   },
   "outputs": [
    {
     "data": {
      "text/plain": [
       "['borisjohnson', 'grantshapps']"
      ]
     },
     "execution_count": 320,
     "metadata": {},
     "output_type": "execute_result"
    }
   ],
   "source": [
    "test_list = fg[2:5]\n",
    "test_list"
   ]
  },
  {
   "cell_type": "code",
   "execution_count": 19,
   "id": "5a5a0f89",
   "metadata": {
    "ExecuteTime": {
     "end_time": "2021-06-15T13:47:11.408037Z",
     "start_time": "2021-06-15T13:47:11.385789Z"
    }
   },
   "outputs": [],
   "source": [
    "chosen_figures = [0,1,2,3,4]\n",
    "length = len(chosen_figures)\n",
    "def func(length):\n",
    "    num_figures = len(chosen_figures)\n",
    "    num_index=[]\n",
    "    for num in range(num_figures):\n",
    "        num_index.append(f\"p{num}\")\n",
    "    return num_index"
   ]
  },
  {
   "cell_type": "code",
   "execution_count": 48,
   "id": "37d0a4fe",
   "metadata": {
    "ExecuteTime": {
     "end_time": "2021-06-15T14:04:14.052826Z",
     "start_time": "2021-06-15T14:04:14.046667Z"
    }
   },
   "outputs": [
    {
     "data": {
      "text/plain": [
       "['p0,p1,p2,p3,p4']"
      ]
     },
     "execution_count": 48,
     "metadata": {},
     "output_type": "execute_result"
    }
   ],
   "source": [
    "[','.join(func(4))]"
   ]
  },
  {
   "cell_type": "code",
   "execution_count": 35,
   "id": "ea5352a5",
   "metadata": {
    "ExecuteTime": {
     "end_time": "2021-06-15T13:56:51.641540Z",
     "start_time": "2021-06-15T13:56:51.635432Z"
    }
   },
   "outputs": [],
   "source": [
    "variables = func(len(chosen_figures))"
   ]
  },
  {
   "cell_type": "code",
   "execution_count": 36,
   "id": "86166658",
   "metadata": {
    "ExecuteTime": {
     "end_time": "2021-06-15T13:57:01.469262Z",
     "start_time": "2021-06-15T13:57:01.463790Z"
    }
   },
   "outputs": [],
   "source": [
    "def joins(variables):\n",
    "    return ','.join(variables)\n"
   ]
  },
  {
   "cell_type": "code",
   "execution_count": 44,
   "id": "f838ed8d",
   "metadata": {
    "ExecuteTime": {
     "end_time": "2021-06-15T14:03:51.891467Z",
     "start_time": "2021-06-15T14:03:51.869451Z"
    }
   },
   "outputs": [
    {
     "data": {
      "text/plain": [
       "'p0,p1,p2,p3,p4'"
      ]
     },
     "execution_count": 44,
     "metadata": {},
     "output_type": "execute_result"
    }
   ],
   "source": [
    "joins(variables)"
   ]
  },
  {
   "cell_type": "code",
   "execution_count": 43,
   "id": "e569f4f0",
   "metadata": {
    "ExecuteTime": {
     "end_time": "2021-06-15T14:01:04.380431Z",
     "start_time": "2021-06-15T14:01:04.369435Z"
    }
   },
   "outputs": [],
   "source": [
    "locals()[joins(variables)]= 1,2,3,4"
   ]
  },
  {
   "cell_type": "code",
   "execution_count": null,
   "id": "df120187",
   "metadata": {},
   "outputs": [],
   "source": []
  },
  {
   "cell_type": "code",
   "execution_count": 30,
   "id": "c3e4c7a5",
   "metadata": {
    "ExecuteTime": {
     "end_time": "2021-06-15T13:49:31.408189Z",
     "start_time": "2021-06-15T13:49:31.403270Z"
    }
   },
   "outputs": [
    {
     "name": "stdout",
     "output_type": "stream",
     "text": [
      "p0\n",
      "p1\n",
      "p2\n",
      "p3\n",
      "p4\n"
     ]
    }
   ],
   "source": [
    "x = func(4)\n",
    "for i in range(len(x)):\n",
    "    print(x[i])"
   ]
  },
  {
   "cell_type": "code",
   "execution_count": 18,
   "id": "1501fc26",
   "metadata": {
    "ExecuteTime": {
     "end_time": "2021-06-15T13:43:35.157001Z",
     "start_time": "2021-06-15T13:43:35.152492Z"
    }
   },
   "outputs": [
    {
     "name": "stdout",
     "output_type": "stream",
     "text": [
      "p0,p1,p2,p3,p4\n"
     ]
    }
   ],
   "source": [
    "\n",
    "x = print(\",\".join(num_index))\n",
    "x"
   ]
  },
  {
   "cell_type": "code",
   "execution_count": 322,
   "id": "92a76155",
   "metadata": {
    "ExecuteTime": {
     "end_time": "2021-06-14T14:34:27.737695Z",
     "start_time": "2021-06-14T14:34:26.278874Z"
    }
   },
   "outputs": [
    {
     "data": {
      "text/html": [
       "<div>\n",
       "<style scoped>\n",
       "    .dataframe tbody tr th:only-of-type {\n",
       "        vertical-align: middle;\n",
       "    }\n",
       "\n",
       "    .dataframe tbody tr th {\n",
       "        vertical-align: top;\n",
       "    }\n",
       "\n",
       "    .dataframe thead th {\n",
       "        text-align: right;\n",
       "    }\n",
       "</style>\n",
       "<table border=\"1\" class=\"dataframe\">\n",
       "  <thead>\n",
       "    <tr style=\"text-align: right;\">\n",
       "      <th></th>\n",
       "      <th>date</th>\n",
       "    </tr>\n",
       "  </thead>\n",
       "  <tbody>\n",
       "    <tr>\n",
       "      <th>0</th>\n",
       "      <td>2021-06-12</td>\n",
       "    </tr>\n",
       "    <tr>\n",
       "      <th>1</th>\n",
       "      <td>2021-06-12</td>\n",
       "    </tr>\n",
       "    <tr>\n",
       "      <th>2</th>\n",
       "      <td>2021-06-12</td>\n",
       "    </tr>\n",
       "    <tr>\n",
       "      <th>3</th>\n",
       "      <td>2021-06-12</td>\n",
       "    </tr>\n",
       "    <tr>\n",
       "      <th>4</th>\n",
       "      <td>2021-06-12</td>\n",
       "    </tr>\n",
       "    <tr>\n",
       "      <th>...</th>\n",
       "      <td>...</td>\n",
       "    </tr>\n",
       "    <tr>\n",
       "      <th>120630</th>\n",
       "      <td>2021-01-01</td>\n",
       "    </tr>\n",
       "    <tr>\n",
       "      <th>120631</th>\n",
       "      <td>2021-01-01</td>\n",
       "    </tr>\n",
       "    <tr>\n",
       "      <th>120632</th>\n",
       "      <td>2021-01-01</td>\n",
       "    </tr>\n",
       "    <tr>\n",
       "      <th>120633</th>\n",
       "      <td>2021-01-01</td>\n",
       "    </tr>\n",
       "    <tr>\n",
       "      <th>120634</th>\n",
       "      <td>2021-01-01</td>\n",
       "    </tr>\n",
       "  </tbody>\n",
       "</table>\n",
       "<p>120635 rows × 1 columns</p>\n",
       "</div>"
      ],
      "text/plain": [
       "              date\n",
       "0       2021-06-12\n",
       "1       2021-06-12\n",
       "2       2021-06-12\n",
       "3       2021-06-12\n",
       "4       2021-06-12\n",
       "...            ...\n",
       "120630  2021-01-01\n",
       "120631  2021-01-01\n",
       "120632  2021-01-01\n",
       "120633  2021-01-01\n",
       "120634  2021-01-01\n",
       "\n",
       "[120635 rows x 1 columns]"
      ]
     },
     "execution_count": 322,
     "metadata": {},
     "output_type": "execute_result"
    }
   ],
   "source": [
    "get_popularity(test_list)\n"
   ]
  },
  {
   "cell_type": "code",
   "execution_count": null,
   "id": "b5f1e8ae",
   "metadata": {},
   "outputs": [],
   "source": []
  },
  {
   "cell_type": "code",
   "execution_count": 286,
   "id": "ac791de9",
   "metadata": {
    "ExecuteTime": {
     "end_time": "2021-06-14T14:01:40.548186Z",
     "start_time": "2021-06-14T14:01:39.961608Z"
    }
   },
   "outputs": [],
   "source": [
    "gs = get_popularity(test_list)"
   ]
  },
  {
   "cell_type": "code",
   "execution_count": 288,
   "id": "b4c0a636",
   "metadata": {
    "ExecuteTime": {
     "end_time": "2021-06-14T14:02:05.052210Z",
     "start_time": "2021-06-14T14:02:04.420999Z"
    }
   },
   "outputs": [],
   "source": [
    "bj = get_popularity(['borisjohnson'])"
   ]
  },
  {
   "cell_type": "code",
   "execution_count": 291,
   "id": "09d7fbcf",
   "metadata": {
    "ExecuteTime": {
     "end_time": "2021-06-14T14:02:43.965882Z",
     "start_time": "2021-06-14T14:02:43.930318Z"
    }
   },
   "outputs": [
    {
     "data": {
      "text/html": [
       "<div>\n",
       "<style scoped>\n",
       "    .dataframe tbody tr th:only-of-type {\n",
       "        vertical-align: middle;\n",
       "    }\n",
       "\n",
       "    .dataframe tbody tr th {\n",
       "        vertical-align: top;\n",
       "    }\n",
       "\n",
       "    .dataframe thead th {\n",
       "        text-align: right;\n",
       "    }\n",
       "</style>\n",
       "<table border=\"1\" class=\"dataframe\">\n",
       "  <thead>\n",
       "    <tr style=\"text-align: right;\">\n",
       "      <th></th>\n",
       "      <th>date</th>\n",
       "      <th>grantshapps</th>\n",
       "      <th>borisjohnson</th>\n",
       "    </tr>\n",
       "  </thead>\n",
       "  <tbody>\n",
       "    <tr>\n",
       "      <th>0</th>\n",
       "      <td>2021-01-02</td>\n",
       "      <td>-1.5</td>\n",
       "      <td>13.0</td>\n",
       "    </tr>\n",
       "    <tr>\n",
       "      <th>1</th>\n",
       "      <td>2021-01-03</td>\n",
       "      <td>-11.0</td>\n",
       "      <td>-205.5</td>\n",
       "    </tr>\n",
       "    <tr>\n",
       "      <th>2</th>\n",
       "      <td>2021-01-04</td>\n",
       "      <td>-9.0</td>\n",
       "      <td>-4392.5</td>\n",
       "    </tr>\n",
       "    <tr>\n",
       "      <th>3</th>\n",
       "      <td>2021-01-05</td>\n",
       "      <td>1.0</td>\n",
       "      <td>-1661.5</td>\n",
       "    </tr>\n",
       "    <tr>\n",
       "      <th>4</th>\n",
       "      <td>2021-01-06</td>\n",
       "      <td>-5.5</td>\n",
       "      <td>-1355.0</td>\n",
       "    </tr>\n",
       "    <tr>\n",
       "      <th>...</th>\n",
       "      <td>...</td>\n",
       "      <td>...</td>\n",
       "      <td>...</td>\n",
       "    </tr>\n",
       "    <tr>\n",
       "      <th>145</th>\n",
       "      <td>2021-05-30</td>\n",
       "      <td>-2.0</td>\n",
       "      <td>878.5</td>\n",
       "    </tr>\n",
       "    <tr>\n",
       "      <th>146</th>\n",
       "      <td>2021-01-20</td>\n",
       "      <td>NaN</td>\n",
       "      <td>3.0</td>\n",
       "    </tr>\n",
       "    <tr>\n",
       "      <th>147</th>\n",
       "      <td>2021-05-02</td>\n",
       "      <td>NaN</td>\n",
       "      <td>-743.0</td>\n",
       "    </tr>\n",
       "    <tr>\n",
       "      <th>148</th>\n",
       "      <td>2021-05-05</td>\n",
       "      <td>NaN</td>\n",
       "      <td>1681.5</td>\n",
       "    </tr>\n",
       "    <tr>\n",
       "      <th>149</th>\n",
       "      <td>2021-05-31</td>\n",
       "      <td>NaN</td>\n",
       "      <td>-58.0</td>\n",
       "    </tr>\n",
       "  </tbody>\n",
       "</table>\n",
       "<p>150 rows × 3 columns</p>\n",
       "</div>"
      ],
      "text/plain": [
       "           date  grantshapps  borisjohnson\n",
       "0    2021-01-02         -1.5          13.0\n",
       "1    2021-01-03        -11.0        -205.5\n",
       "2    2021-01-04         -9.0       -4392.5\n",
       "3    2021-01-05          1.0       -1661.5\n",
       "4    2021-01-06         -5.5       -1355.0\n",
       "..          ...          ...           ...\n",
       "145  2021-05-30         -2.0         878.5\n",
       "146  2021-01-20          NaN           3.0\n",
       "147  2021-05-02          NaN        -743.0\n",
       "148  2021-05-05          NaN        1681.5\n",
       "149  2021-05-31          NaN         -58.0\n",
       "\n",
       "[150 rows x 3 columns]"
      ]
     },
     "execution_count": 291,
     "metadata": {},
     "output_type": "execute_result"
    }
   ],
   "source": [
    "gs.merge(bj,how='outer', on='date')\n"
   ]
  },
  {
   "cell_type": "code",
   "execution_count": 290,
   "id": "b7e5d7a0",
   "metadata": {
    "ExecuteTime": {
     "end_time": "2021-06-14T14:02:12.918726Z",
     "start_time": "2021-06-14T14:02:12.913432Z"
    }
   },
   "outputs": [
    {
     "data": {
      "text/plain": [
       "(150, 2)"
      ]
     },
     "execution_count": 290,
     "metadata": {},
     "output_type": "execute_result"
    }
   ],
   "source": [
    "bj.shape"
   ]
  },
  {
   "cell_type": "code",
   "execution_count": 230,
   "id": "893d809d",
   "metadata": {
    "ExecuteTime": {
     "end_time": "2021-06-14T13:53:21.661766Z",
     "start_time": "2021-06-14T13:53:21.142053Z"
    }
   },
   "outputs": [
    {
     "data": {
      "text/html": [
       "<div>\n",
       "<style scoped>\n",
       "    .dataframe tbody tr th:only-of-type {\n",
       "        vertical-align: middle;\n",
       "    }\n",
       "\n",
       "    .dataframe tbody tr th {\n",
       "        vertical-align: top;\n",
       "    }\n",
       "\n",
       "    .dataframe thead th {\n",
       "        text-align: right;\n",
       "    }\n",
       "</style>\n",
       "<table border=\"1\" class=\"dataframe\">\n",
       "  <thead>\n",
       "    <tr style=\"text-align: right;\">\n",
       "      <th></th>\n",
       "      <th>date</th>\n",
       "      <th>teststests</th>\n",
       "    </tr>\n",
       "  </thead>\n",
       "  <tbody>\n",
       "    <tr>\n",
       "      <th>1</th>\n",
       "      <td>2021-01-02</td>\n",
       "      <td>-21.5</td>\n",
       "    </tr>\n",
       "    <tr>\n",
       "      <th>2</th>\n",
       "      <td>2021-01-03</td>\n",
       "      <td>14.0</td>\n",
       "    </tr>\n",
       "    <tr>\n",
       "      <th>3</th>\n",
       "      <td>2021-01-04</td>\n",
       "      <td>62.5</td>\n",
       "    </tr>\n",
       "    <tr>\n",
       "      <th>4</th>\n",
       "      <td>2021-01-05</td>\n",
       "      <td>6.0</td>\n",
       "    </tr>\n",
       "    <tr>\n",
       "      <th>5</th>\n",
       "      <td>2021-01-06</td>\n",
       "      <td>11.0</td>\n",
       "    </tr>\n",
       "    <tr>\n",
       "      <th>...</th>\n",
       "      <td>...</td>\n",
       "      <td>...</td>\n",
       "    </tr>\n",
       "    <tr>\n",
       "      <th>143</th>\n",
       "      <td>2021-05-27</td>\n",
       "      <td>49.5</td>\n",
       "    </tr>\n",
       "    <tr>\n",
       "      <th>144</th>\n",
       "      <td>2021-05-28</td>\n",
       "      <td>-1.5</td>\n",
       "    </tr>\n",
       "    <tr>\n",
       "      <th>145</th>\n",
       "      <td>2021-05-29</td>\n",
       "      <td>91.0</td>\n",
       "    </tr>\n",
       "    <tr>\n",
       "      <th>146</th>\n",
       "      <td>2021-05-30</td>\n",
       "      <td>-7.0</td>\n",
       "    </tr>\n",
       "    <tr>\n",
       "      <th>147</th>\n",
       "      <td>2021-05-31</td>\n",
       "      <td>-4.5</td>\n",
       "    </tr>\n",
       "  </tbody>\n",
       "</table>\n",
       "<p>147 rows × 2 columns</p>\n",
       "</div>"
      ],
      "text/plain": [
       "           date  teststests\n",
       "1    2021-01-02       -21.5\n",
       "2    2021-01-03        14.0\n",
       "3    2021-01-04        62.5\n",
       "4    2021-01-05         6.0\n",
       "5    2021-01-06        11.0\n",
       "..          ...         ...\n",
       "143  2021-05-27        49.5\n",
       "144  2021-05-28        -1.5\n",
       "145  2021-05-29        91.0\n",
       "146  2021-05-30        -7.0\n",
       "147  2021-05-31        -4.5\n",
       "\n",
       "[147 rows x 2 columns]"
      ]
     },
     "execution_count": 230,
     "metadata": {},
     "output_type": "execute_result"
    }
   ],
   "source": [
    "t_ = Tweets().by_figure(fg[0])\n",
    "t_.rename({'popularity':'teststests'},axis=1,inplace=True)\n",
    "t_ = t_[['date','teststests']]\n",
    "t_"
   ]
  },
  {
   "cell_type": "code",
   "execution_count": 167,
   "id": "840c106e",
   "metadata": {
    "ExecuteTime": {
     "end_time": "2021-06-14T13:37:09.337377Z",
     "start_time": "2021-06-14T13:37:08.694068Z"
    }
   },
   "outputs": [
    {
     "data": {
      "text/html": [
       "<div>\n",
       "<style scoped>\n",
       "    .dataframe tbody tr th:only-of-type {\n",
       "        vertical-align: middle;\n",
       "    }\n",
       "\n",
       "    .dataframe tbody tr th {\n",
       "        vertical-align: top;\n",
       "    }\n",
       "\n",
       "    .dataframe thead th {\n",
       "        text-align: right;\n",
       "    }\n",
       "</style>\n",
       "<table border=\"1\" class=\"dataframe\">\n",
       "  <thead>\n",
       "    <tr style=\"text-align: right;\">\n",
       "      <th></th>\n",
       "      <th>date</th>\n",
       "      <th>popularity</th>\n",
       "      <th>likes_count</th>\n",
       "      <th>retweets_count</th>\n",
       "    </tr>\n",
       "  </thead>\n",
       "  <tbody>\n",
       "    <tr>\n",
       "      <th>1</th>\n",
       "      <td>2021-01-02</td>\n",
       "      <td>-21.5</td>\n",
       "      <td>59</td>\n",
       "      <td>16</td>\n",
       "    </tr>\n",
       "    <tr>\n",
       "      <th>2</th>\n",
       "      <td>2021-01-03</td>\n",
       "      <td>14.0</td>\n",
       "      <td>16</td>\n",
       "      <td>3</td>\n",
       "    </tr>\n",
       "  </tbody>\n",
       "</table>\n",
       "</div>"
      ],
      "text/plain": [
       "         date  popularity  likes_count  retweets_count\n",
       "1  2021-01-02       -21.5           59              16\n",
       "2  2021-01-03        14.0           16               3"
      ]
     },
     "execution_count": 167,
     "metadata": {},
     "output_type": "execute_result"
    }
   ],
   "source": [
    "x = Tweets().by_figure('AngelaRayner')\n",
    "x.head(2)"
   ]
  },
  {
   "cell_type": "code",
   "execution_count": 170,
   "id": "f8f2391e",
   "metadata": {
    "ExecuteTime": {
     "end_time": "2021-06-14T13:38:03.433825Z",
     "start_time": "2021-06-14T13:38:02.921856Z"
    }
   },
   "outputs": [
    {
     "data": {
      "text/html": [
       "<div>\n",
       "<style scoped>\n",
       "    .dataframe tbody tr th:only-of-type {\n",
       "        vertical-align: middle;\n",
       "    }\n",
       "\n",
       "    .dataframe tbody tr th {\n",
       "        vertical-align: top;\n",
       "    }\n",
       "\n",
       "    .dataframe thead th {\n",
       "        text-align: right;\n",
       "    }\n",
       "</style>\n",
       "<table border=\"1\" class=\"dataframe\">\n",
       "  <thead>\n",
       "    <tr style=\"text-align: right;\">\n",
       "      <th></th>\n",
       "      <th>date</th>\n",
       "      <th>grantshapps</th>\n",
       "      <th>likes_count</th>\n",
       "      <th>retweets_count</th>\n",
       "    </tr>\n",
       "  </thead>\n",
       "  <tbody>\n",
       "    <tr>\n",
       "      <th>1</th>\n",
       "      <td>2021-01-02</td>\n",
       "      <td>-1.5</td>\n",
       "      <td>13</td>\n",
       "      <td>0</td>\n",
       "    </tr>\n",
       "    <tr>\n",
       "      <th>2</th>\n",
       "      <td>2021-01-03</td>\n",
       "      <td>-11.0</td>\n",
       "      <td>20</td>\n",
       "      <td>8</td>\n",
       "    </tr>\n",
       "  </tbody>\n",
       "</table>\n",
       "</div>"
      ],
      "text/plain": [
       "         date  grantshapps  likes_count  retweets_count\n",
       "1  2021-01-02         -1.5           13               0\n",
       "2  2021-01-03        -11.0           20               8"
      ]
     },
     "execution_count": 170,
     "metadata": {},
     "output_type": "execute_result"
    }
   ],
   "source": [
    "y = Tweets().by_figure('grantshapps')\n",
    "y.rename({'popularity':'grantshapps'},axis=1,inplace=True)\n",
    "y.head(2)"
   ]
  },
  {
   "cell_type": "code",
   "execution_count": null,
   "id": "9464c0af",
   "metadata": {},
   "outputs": [],
   "source": []
  }
 ],
 "metadata": {
  "kernelspec": {
   "display_name": "le_kingmakers",
   "language": "python",
   "name": "le_kingmakers"
  },
  "language_info": {
   "codemirror_mode": {
    "name": "ipython",
    "version": 3
   },
   "file_extension": ".py",
   "mimetype": "text/x-python",
   "name": "python",
   "nbconvert_exporter": "python",
   "pygments_lexer": "ipython3",
   "version": "3.8.6"
  },
  "toc": {
   "base_numbering": 1,
   "nav_menu": {},
   "number_sections": true,
   "sideBar": true,
   "skip_h1_title": false,
   "title_cell": "Table of Contents",
   "title_sidebar": "Contents",
   "toc_cell": false,
   "toc_position": {},
   "toc_section_display": true,
   "toc_window_display": false
  },
  "varInspector": {
   "cols": {
    "lenName": 16,
    "lenType": 16,
    "lenVar": 40
   },
   "kernels_config": {
    "python": {
     "delete_cmd_postfix": "",
     "delete_cmd_prefix": "del ",
     "library": "var_list.py",
     "varRefreshCmd": "print(var_dic_list())"
    },
    "r": {
     "delete_cmd_postfix": ") ",
     "delete_cmd_prefix": "rm(",
     "library": "var_list.r",
     "varRefreshCmd": "cat(var_dic_list()) "
    }
   },
   "types_to_exclude": [
    "module",
    "function",
    "builtin_function_or_method",
    "instance",
    "_Feature"
   ],
   "window_display": false
  }
 },
 "nbformat": 4,
 "nbformat_minor": 5
}
